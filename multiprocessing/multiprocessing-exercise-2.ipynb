{
 "cells": [
  {
   "cell_type": "markdown",
   "id": "bb3a24c6",
   "metadata": {},
   "source": [
    "Let's go back to the authentication library you wrote in the beginning of the week. Before trying to authenticate a user, it's a good idea to first check whether an account with a given username exists. Here we mimick this check.\n",
    "\n",
    "First import `auth` and check the arguments and return value of the function `check_user_exists`."
   ]
  },
  {
   "cell_type": "code",
   "execution_count": 4,
   "id": "e30f2f10",
   "metadata": {},
   "outputs": [
    {
     "data": {
      "text/plain": [
       "4"
      ]
     },
     "execution_count": 4,
     "metadata": {},
     "output_type": "execute_result"
    }
   ],
   "source": [
    "from multiprocessing.pool import ThreadPool\n",
    "import multiprocessing\n",
    "multiprocessing.cpu_count()\n",
    "\n",
    "with ThreadPool(processes=2) as pool:\n",
    "    results = pool.map(function,inputs)\n"
   ]
  },
  {
   "cell_type": "code",
   "execution_count": 5,
   "id": "192019fe",
   "metadata": {},
   "outputs": [
    {
     "name": "stdout",
     "output_type": "stream",
     "text": [
      "Help on function check_user_exists in module auth:\n",
      "\n",
      "check_user_exists(username)\n",
      "    Check whether a user with `username` exists in the database.\n",
      "    \n",
      "    Parameters\n",
      "    ----------\n",
      "    username : str\n",
      "        Username to check.\n",
      "    \n",
      "    Returns\n",
      "    -------\n",
      "    bool\n",
      "        Whether the user exists in the database.\n",
      "\n"
     ]
    }
   ],
   "source": [
    "import auth\n",
    "help(auth.check_user_exists)"
   ]
  },
  {
   "cell_type": "markdown",
   "id": "91616f28",
   "metadata": {},
   "source": [
    "### Step 0\n",
    "Implement a serial version using `map`, processing several (4+) usernames. Time it."
   ]
  },
  {
   "cell_type": "code",
   "execution_count": 24,
   "id": "28f7f9fb",
   "metadata": {},
   "outputs": [
    {
     "name": "stdout",
     "output_type": "stream",
     "text": [
      ".........................CPU times: user 29.7 ms, sys: 9.34 ms, total: 39 ms\n",
      "Wall time: 25.1 s\n"
     ]
    },
    {
     "data": {
      "text/plain": [
       "[False, False, False, False]"
      ]
     },
     "execution_count": 24,
     "metadata": {},
     "output_type": "execute_result"
    }
   ],
   "source": [
    "%%time\n",
    "usernames = ['name1','name2name3', 'name3','name4']  # TODO add some usernames\n",
    "# TODO implement a serial version\n",
    "list(map(auth.check_user_exists,usernames))"
   ]
  },
  {
   "cell_type": "markdown",
   "id": "2dbda9fc",
   "metadata": {},
   "source": [
    "### Step 1\n",
    "Use the `ThreadPool` to parallelize your code. Time it and compare execution times."
   ]
  },
  {
   "cell_type": "code",
   "execution_count": null,
   "id": "54f45ec7",
   "metadata": {},
   "outputs": [],
   "source": [
    "from multiprocessing.pool import ThreadPool"
   ]
  },
  {
   "cell_type": "code",
   "execution_count": 23,
   "id": "9d86ecd1",
   "metadata": {},
   "outputs": [
    {
     "name": "stdout",
     "output_type": "stream",
     "text": [
      ".........................CPU times: user 28.5 ms, sys: 8.17 ms, total: 36.6 ms\n",
      "Wall time: 10 s\n"
     ]
    },
    {
     "data": {
      "text/plain": [
       "[False, False, False, False]"
      ]
     },
     "execution_count": 23,
     "metadata": {},
     "output_type": "execute_result"
    }
   ],
   "source": [
    "%%time\n",
    "# TODO implement a thread-parallel version\n",
    "with ThreadPool(processes=4) as pool:\n",
    "    results = pool.map(auth.check_user_exists,usernames)\n",
    "results"
   ]
  },
  {
   "cell_type": "code",
   "execution_count": null,
   "id": "838ec7eb",
   "metadata": {},
   "outputs": [],
   "source": []
  }
 ],
 "metadata": {
  "kernelspec": {
   "display_name": "Python 3 (ipykernel)",
   "language": "python",
   "name": "python3"
  },
  "language_info": {
   "codemirror_mode": {
    "name": "ipython",
    "version": 3
   },
   "file_extension": ".py",
   "mimetype": "text/x-python",
   "name": "python",
   "nbconvert_exporter": "python",
   "pygments_lexer": "ipython3",
   "version": "3.10.6"
  }
 },
 "nbformat": 4,
 "nbformat_minor": 5
}
