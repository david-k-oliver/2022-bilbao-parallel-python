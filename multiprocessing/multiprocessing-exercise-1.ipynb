{
 "cells": [
  {
   "cell_type": "markdown",
   "id": "7e589ef3",
   "metadata": {},
   "source": [
    "### Step 0\n",
    "Compute the cubes of numbers 0..9 with a for loop."
   ]
  },
  {
   "cell_type": "code",
   "execution_count": 10,
   "id": "656b87a0",
   "metadata": {},
   "outputs": [
    {
     "data": {
      "text/plain": [
       "[0, 1, 8, 27, 64, 125, 216, 343, 512, 729]"
      ]
     },
     "execution_count": 10,
     "metadata": {},
     "output_type": "execute_result"
    }
   ],
   "source": [
    "input_data = range(10)\n",
    "# TODO compute cubes\n",
    "\n",
    "\n",
    "def compute_cubes(x):\n",
    "    return x*x*x\n",
    "\n",
    "results=[]\n",
    "for x in input_data:\n",
    "    results.append(compute_cubes(x))\n",
    "results"
   ]
  },
  {
   "cell_type": "code",
   "execution_count": 19,
   "id": "7e3e8c0f",
   "metadata": {},
   "outputs": [
    {
     "name": "stdout",
     "output_type": "stream",
     "text": [
      "1.06 µs ± 3.54 ns per loop (mean ± std. dev. of 7 runs, 1,000,000 loops each)\n"
     ]
    }
   ],
   "source": [
    "%%timeit \n",
    "for x in input_data:\n",
    "    results.append(compute_cubes(x))"
   ]
  },
  {
   "cell_type": "code",
   "execution_count": 15,
   "id": "b23dbfce",
   "metadata": {},
   "outputs": [
    {
     "name": "stdout",
     "output_type": "stream",
     "text": [
      "872 ns ± 16.7 ns per loop (mean ± std. dev. of 7 runs, 1,000,000 loops each)\n"
     ]
    }
   ],
   "source": [
    "%timeit results = [compute_cubes(x) for x in input_data]"
   ]
  },
  {
   "cell_type": "markdown",
   "id": "db482f32",
   "metadata": {},
   "source": [
    "### Step 1\n",
    "Compute the cubes of numbers 0..9 using list comprehension."
   ]
  },
  {
   "cell_type": "code",
   "execution_count": 13,
   "id": "ee88a6ac",
   "metadata": {},
   "outputs": [
    {
     "data": {
      "text/plain": [
       "[0, 1, 8, 27, 64, 125, 216, 343, 512, 729]"
      ]
     },
     "execution_count": 13,
     "metadata": {},
     "output_type": "execute_result"
    }
   ],
   "source": [
    "input_data = range(10)\n",
    "# TODO compute cubes\n",
    "results = [compute_cubes(x) for x in input_data]\n",
    "results"
   ]
  },
  {
   "cell_type": "code",
   "execution_count": null,
   "id": "dd70edae",
   "metadata": {},
   "outputs": [],
   "source": []
  },
  {
   "cell_type": "markdown",
   "id": "d1d1e41c",
   "metadata": {},
   "source": [
    "### Step 2\n",
    "Compute the cubes of numbers 0..9 using map."
   ]
  },
  {
   "cell_type": "code",
   "execution_count": 14,
   "id": "b3e934a0",
   "metadata": {},
   "outputs": [
    {
     "data": {
      "text/plain": [
       "[0, 1, 8, 27, 64, 125, 216, 343, 512, 729]"
      ]
     },
     "execution_count": 14,
     "metadata": {},
     "output_type": "execute_result"
    }
   ],
   "source": [
    "input_data = range(10)\n",
    "# TODO compute cubes\n",
    "list(map(compute_cubes,input_data))"
   ]
  },
  {
   "cell_type": "code",
   "execution_count": 16,
   "id": "8df3684b",
   "metadata": {},
   "outputs": [
    {
     "name": "stdout",
     "output_type": "stream",
     "text": [
      "780 ns ± 13.6 ns per loop (mean ± std. dev. of 7 runs, 1,000,000 loops each)\n"
     ]
    }
   ],
   "source": [
    "%timeit list(map(compute_cubes,input_data))"
   ]
  },
  {
   "cell_type": "code",
   "execution_count": null,
   "id": "63f826f8",
   "metadata": {},
   "outputs": [],
   "source": []
  }
 ],
 "metadata": {
  "kernelspec": {
   "display_name": "Python 3 (ipykernel)",
   "language": "python",
   "name": "python3"
  },
  "language_info": {
   "codemirror_mode": {
    "name": "ipython",
    "version": 3
   },
   "file_extension": ".py",
   "mimetype": "text/x-python",
   "name": "python",
   "nbconvert_exporter": "python",
   "pygments_lexer": "ipython3",
   "version": "3.10.6"
  }
 },
 "nbformat": 4,
 "nbformat_minor": 5
}
