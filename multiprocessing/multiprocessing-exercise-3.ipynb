{
 "cells": [
  {
   "cell_type": "markdown",
   "id": "824f3efc",
   "metadata": {},
   "source": [
    "### Step 0\n",
    "Implement your own compute-bound function, e.g., a function that computes the sum of cubes for a range of numbers using a for loop.\n",
    "\n",
    "Note: please do not use any external libraries or smart algorithms. ;)"
   ]
  },
  {
   "cell_type": "code",
   "execution_count": 27,
   "id": "8f545181",
   "metadata": {},
   "outputs": [
    {
     "name": "stdout",
     "output_type": "stream",
     "text": [
      "CPU times: user 839 ms, sys: 995 µs, total: 840 ms\n",
      "Wall time: 847 ms\n"
     ]
    },
    {
     "data": {
      "text/plain": [
       "1.82856716190861e+43"
      ]
     },
     "execution_count": 27,
     "metadata": {},
     "output_type": "execute_result"
    }
   ],
   "source": [
    "def crunch_numbers(x):\n",
    "    y = 0.0\n",
    "    for i in range(int(x*1e6)):\n",
    "        y += (i**7)/(i+1)\n",
    "    return y\n",
    "\n",
    "\n",
    "%time crunch_numbers(2)\n",
    "\n",
    "#    pass  # TODO replace with some number crunching"
   ]
  },
  {
   "cell_type": "markdown",
   "id": "0965ca80",
   "metadata": {},
   "source": [
    "### Step 1\n",
    "Now you want to crunch numbers multiple times, e.g., for different ranges (`x` in the code above).\n",
    "\n",
    "Implement a serial version."
   ]
  },
  {
   "cell_type": "code",
   "execution_count": 25,
   "id": "63851d08",
   "metadata": {},
   "outputs": [],
   "source": [
    "input_data = [2,4,6,8,9,3,6]  # TODO a list of inputs for your `crunch_numbers` function"
   ]
  },
  {
   "cell_type": "code",
   "execution_count": 32,
   "id": "51cae945",
   "metadata": {},
   "outputs": [
    {
     "name": "stdout",
     "output_type": "stream",
     "text": [
      "CPU times: user 15.7 s, sys: 996 µs, total: 15.7 s\n",
      "Wall time: 15.7 s\n"
     ]
    },
    {
     "data": {
      "text/plain": [
       "[1.82856716190861e+43,\n",
       " 2.340568697906016e+45,\n",
       " 3.999082603886686e+46,\n",
       " 2.9959296809450914e+47,\n",
       " 6.8328093142036e+47,\n",
       " 3.1242808542886557e+44,\n",
       " 3.999082603886686e+46]"
      ]
     },
     "execution_count": 32,
     "metadata": {},
     "output_type": "execute_result"
    }
   ],
   "source": [
    "%%time\n",
    "\n",
    "list(map(crunch_numbers,input_data))\n",
    "# TODO implement a serial version"
   ]
  },
  {
   "cell_type": "markdown",
   "id": "ce8ac329",
   "metadata": {},
   "source": [
    "### Step 2\n",
    "\n",
    "Now use the `ThreadPool` to parallelize your code. Time it and compare execution times.\n",
    "\n",
    "Do you observe a speedup?"
   ]
  },
  {
   "cell_type": "code",
   "execution_count": 35,
   "id": "5a94fd97",
   "metadata": {},
   "outputs": [],
   "source": [
    "from multiprocessing.pool import ThreadPool"
   ]
  },
  {
   "cell_type": "code",
   "execution_count": 36,
   "id": "479aee0f",
   "metadata": {},
   "outputs": [
    {
     "name": "stdout",
     "output_type": "stream",
     "text": [
      "CPU times: user 15.9 s, sys: 52.6 ms, total: 16 s\n",
      "Wall time: 16.1 s\n"
     ]
    },
    {
     "data": {
      "text/plain": [
       "[1.82856716190861e+43,\n",
       " 2.340568697906016e+45,\n",
       " 3.999082603886686e+46,\n",
       " 2.9959296809450914e+47,\n",
       " 6.8328093142036e+47,\n",
       " 3.1242808542886557e+44,\n",
       " 3.999082603886686e+46]"
      ]
     },
     "execution_count": 36,
     "metadata": {},
     "output_type": "execute_result"
    }
   ],
   "source": [
    "%%time\n",
    "with ThreadPool(processes=4) as pool:\n",
    "    results = pool.map(crunch_numbers,input_data)\n",
    "results\n",
    "# TODO implement a thread-parallel version"
   ]
  },
  {
   "cell_type": "code",
   "execution_count": null,
   "id": "9e92f992",
   "metadata": {},
   "outputs": [],
   "source": []
  }
 ],
 "metadata": {
  "kernelspec": {
   "display_name": "Python 3 (ipykernel)",
   "language": "python",
   "name": "python3"
  },
  "language_info": {
   "codemirror_mode": {
    "name": "ipython",
    "version": 3
   },
   "file_extension": ".py",
   "mimetype": "text/x-python",
   "name": "python",
   "nbconvert_exporter": "python",
   "pygments_lexer": "ipython3",
   "version": "3.10.6"
  }
 },
 "nbformat": 4,
 "nbformat_minor": 5
}
