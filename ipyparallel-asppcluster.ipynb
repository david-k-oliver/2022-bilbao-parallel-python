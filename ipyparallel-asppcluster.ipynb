{
 "cells": [
  {
   "cell_type": "markdown",
   "id": "d6f62134",
   "metadata": {},
   "source": [
    "- The ipyparallel controller creates two files which contain information how to connect to the controller (address and authentication secrets).\n",
    "- To to connect our engines and clients to the cluster, we need to copy those files to our local machine.\n",
    "- We use `rsync`.\n",
    "\n",
    "The address changes, so replace `1.2.3.4` by the address shown on the projector."
   ]
  },
  {
   "cell_type": "code",
   "execution_count": 2,
   "id": "0b675759",
   "metadata": {},
   "outputs": [
    {
     "name": "stdout",
     "output_type": "stream",
     "text": [
      "The authenticity of host '172.25.224.50 (172.25.224.50)' can't be established.\n",
      "ED25519 key fingerprint is SHA256:UPJArdVFh2z+vqTUJNA9s4/SqHydNQe59DQnT0wX0zc.\n",
      "This key is not known by any other names\n",
      "Are you sure you want to continue connecting (yes/no/[fingerprint])? ^C\n"
     ]
    }
   ],
   "source": [
    "!rsync -v 'student@172.25.224.50:.ipython/profile_default/security/ipcontroller-*.json' ~/.ipython/profile_default/security/"
   ]
  },
  {
   "cell_type": "code",
   "execution_count": null,
   "id": "246b71f8",
   "metadata": {},
   "outputs": [],
   "source": [
    ".Those files are just JSON. We can print them with syntax highlighting with `pygmentize`:"
   ]
  },
  {
   "cell_type": "code",
   "execution_count": null,
   "id": "398e06db",
   "metadata": {},
   "outputs": [],
   "source": [
    "!pygmentize /home/student/.ipython/profile_default/security/ipcontroller-engine.json "
   ]
  },
  {
   "cell_type": "code",
   "execution_count": null,
   "id": "4e7e7548",
   "metadata": {},
   "outputs": [],
   "source": [
    "!pygmentize /home/student/.ipython/profile_default/security/ipcontroller-client.json "
   ]
  },
  {
   "cell_type": "markdown",
   "id": "84e30897",
   "metadata": {},
   "source": [
    "This starts `htop` in a terminal window to monitor running processes.\n",
    "\n",
    "If you prefer, start `htop` manually in some terminal window."
   ]
  },
  {
   "cell_type": "code",
   "execution_count": 3,
   "id": "947c063f",
   "metadata": {},
   "outputs": [
    {
     "name": "stdout",
     "output_type": "stream",
     "text": [
      "urxvt: unable to calculate font width for ':slant=0:weight=200:pixelsize=13:minspace=True:lang=he', using max_advance_width.\r\n"
     ]
    }
   ],
   "source": [
    "!bash -c 'urxvt -e htop & sleep 3'"
   ]
  },
  {
   "cell_type": "markdown",
   "id": "426de2d5",
   "metadata": {},
   "source": [
    "Now we start our ipcluster engines on the local machine.\n",
    "They will connect to the controller configured by the JSON `ipcontroller-engine.json`. "
   ]
  },
  {
   "cell_type": "code",
   "execution_count": 4,
   "id": "1c53490d",
   "metadata": {},
   "outputs": [],
   "source": [
    "!bash -c 'urxvt -e ipcluster engines & sleep 3'"
   ]
  },
  {
   "cell_type": "code",
   "execution_count": 5,
   "id": "97d4f69f",
   "metadata": {},
   "outputs": [],
   "source": [
    "import ipyparallel as ipp\n",
    "rc = ipp.Client()"
   ]
  },
  {
   "cell_type": "code",
   "execution_count": 6,
   "id": "58bf4407",
   "metadata": {},
   "outputs": [
    {
     "data": {
      "text/plain": [
       "[0, 1, 2, 3, 4, 5, 6, 7, 8, 9, 10, 11, 12, 13, 14, 15, 16, 17, 18, 19]"
      ]
     },
     "execution_count": 6,
     "metadata": {},
     "output_type": "execute_result"
    }
   ],
   "source": [
    "rc.ids"
   ]
  },
  {
   "cell_type": "code",
   "execution_count": 7,
   "id": "c1e90be3",
   "metadata": {},
   "outputs": [],
   "source": [
    "def hostname():\n",
    "    import socket\n",
    "    return socket.gethostname()"
   ]
  },
  {
   "cell_type": "code",
   "execution_count": 8,
   "id": "160fb302",
   "metadata": {},
   "outputs": [
    {
     "data": {
      "text/plain": [
       "['krowka',\n",
       " 'krowka',\n",
       " 'krowka',\n",
       " 'krowka',\n",
       " 'aspp07',\n",
       " 'aspp07',\n",
       " 'aspp07',\n",
       " 'aspp07',\n",
       " 'aspp02',\n",
       " 'aspp02',\n",
       " 'aspp02',\n",
       " 'aspp02',\n",
       " 'aspp15',\n",
       " 'aspp15',\n",
       " 'aspp15',\n",
       " 'aspp15',\n",
       " 'aspp16',\n",
       " 'aspp16',\n",
       " 'aspp16',\n",
       " 'aspp16']"
      ]
     },
     "execution_count": 8,
     "metadata": {},
     "output_type": "execute_result"
    }
   ],
   "source": [
    "rc[:].apply_sync(hostname)"
   ]
  },
  {
   "cell_type": "code",
   "execution_count": null,
   "id": "eb1681dc",
   "metadata": {},
   "outputs": [],
   "source": [
    "def f(x):\n",
    "    return x**4 - 3*x"
   ]
  },
  {
   "cell_type": "code",
   "execution_count": 18,
   "id": "1fdbd825",
   "metadata": {},
   "outputs": [],
   "source": [
    "import numpy as np\n",
    "from multiprocessing.pool import Pool as ProcessPool\n",
    "\n",
    "def crunch_numbers(x):\n",
    "    y = 0.0\n",
    "    for i in range(int(x*100)):\n",
    "        y += (i**7)/(i+1)\n",
    "    return y\n",
    "\n",
    "input_data = np.arange(1,5)\n"
   ]
  },
  {
   "cell_type": "code",
   "execution_count": null,
   "id": "c954f1f9",
   "metadata": {},
   "outputs": [],
   "source": []
  },
  {
   "cell_type": "code",
   "execution_count": 20,
   "id": "f3c760f9",
   "metadata": {},
   "outputs": [
    {
     "name": "stdout",
     "output_type": "stream",
     "text": [
      "CPU times: user 103 ms, sys: 6.23 ms, total: 109 ms\n",
      "Wall time: 24.7 s\n"
     ]
    },
    {
     "data": {
      "text/plain": [
       "[13630931940874.816,\n",
       " 1786286903191754.5,\n",
       " 3.0759763719752636e+16,\n",
       " 2.313387343876235e+17]"
      ]
     },
     "execution_count": 20,
     "metadata": {},
     "output_type": "execute_result"
    }
   ],
   "source": [
    "%%time\n",
    "results = rc[:].map_sync(crunch_numbers,input_data)\n",
    "results"
   ]
  },
  {
   "cell_type": "code",
   "execution_count": 24,
   "id": "f5c2fd8b",
   "metadata": {},
   "outputs": [
    {
     "data": {
      "text/plain": [
       "'               total        used        free      shared  buff/cache   available\\nMem:         7929372     4430604     1873728      431704     1625040     2738256\\nSwap:        7928828       93184     7835644\\n'"
      ]
     },
     "execution_count": 24,
     "metadata": {},
     "output_type": "execute_result"
    }
   ],
   "source": [
    "def usage():\n",
    "    import subprocess\n",
    "    return subprocess.check_output('free', text=True)\n",
    "    \n",
    "usage()"
   ]
  },
  {
   "cell_type": "code",
   "execution_count": null,
   "id": "34488cc4",
   "metadata": {},
   "outputs": [],
   "source": [
    "def integrate(a, b, n):\n",
    "    dx = (b - a) / n\n",
    "    s = 0.0\n",
    "    x = a + 0.5 * dx\n",
    "    for i in range(n):\n",
    "        y = f(x)\n",
    "        s += y\n",
    "        x += dx\n",
    "    return s * dx"
   ]
  },
  {
   "cell_type": "code",
   "execution_count": null,
   "id": "1a5af321",
   "metadata": {},
   "outputs": [],
   "source": [
    "rc[:].push(dict(f=f)).wait()"
   ]
  },
  {
   "cell_type": "code",
   "execution_count": null,
   "id": "db5428f4",
   "metadata": {},
   "outputs": [],
   "source": [
    "stepcounts = list(range(10_000, 20_000, 10))\n",
    "a = [-2 for _ in stepcounts]\n",
    "b = [+2 for _ in stepcounts]"
   ]
  },
  {
   "cell_type": "code",
   "execution_count": null,
   "id": "89fe86f2",
   "metadata": {},
   "outputs": [],
   "source": [
    "%timeit -r 1 -n 1    list(map(integrate, a, b, stepcounts))"
   ]
  },
  {
   "cell_type": "code",
   "execution_count": null,
   "id": "bd5254b1",
   "metadata": {},
   "outputs": [],
   "source": [
    "%timeit -r 1 -n 1    rc[:].map_sync(integrate, a, b, stepcounts)"
   ]
  },
  {
   "cell_type": "code",
   "execution_count": null,
   "id": "77d06f96",
   "metadata": {},
   "outputs": [],
   "source": []
  }
 ],
 "metadata": {
  "kernelspec": {
   "display_name": "Python 3 (ipykernel)",
   "language": "python",
   "name": "python3"
  },
  "language_info": {
   "codemirror_mode": {
    "name": "ipython",
    "version": 3
   },
   "file_extension": ".py",
   "mimetype": "text/x-python",
   "name": "python",
   "nbconvert_exporter": "python",
   "pygments_lexer": "ipython3",
   "version": "3.10.6"
  }
 },
 "nbformat": 4,
 "nbformat_minor": 5
}
